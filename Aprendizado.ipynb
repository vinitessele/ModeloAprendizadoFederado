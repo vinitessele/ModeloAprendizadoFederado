{
 "cells": [
  {
   "cell_type": "code",
   "execution_count": 3,
   "metadata": {},
   "outputs": [
    {
     "name": "stdout",
     "output_type": "stream",
     "text": [
      "Defaulting to user installation because normal site-packages is not writeable\n",
      "Requirement already satisfied: flwr in c:\\users\\vinic\\appdata\\roaming\\python\\python312\\site-packages (1.13.1)\n",
      "Requirement already satisfied: torch in c:\\users\\vinic\\appdata\\roaming\\python\\python312\\site-packages (2.4.1)\n",
      "Requirement already satisfied: torchvision in c:\\users\\vinic\\appdata\\roaming\\python\\python312\\site-packages (0.19.1)\n",
      "Requirement already satisfied: cryptography<43.0.0,>=42.0.4 in c:\\users\\vinic\\appdata\\roaming\\python\\python312\\site-packages (from flwr) (42.0.8)\n",
      "Requirement already satisfied: grpcio!=1.64.2,<2.0.0,<=1.64.3,>=1.60.0 in c:\\users\\vinic\\appdata\\roaming\\python\\python312\\site-packages (from flwr) (1.64.3)\n",
      "Requirement already satisfied: iterators<0.0.3,>=0.0.2 in c:\\users\\vinic\\appdata\\roaming\\python\\python312\\site-packages (from flwr) (0.0.2)\n",
      "Requirement already satisfied: numpy<3.0.0,>=1.26.0 in c:\\users\\vinic\\appdata\\roaming\\python\\python312\\site-packages (from flwr) (1.26.4)\n",
      "Requirement already satisfied: pathspec<0.13.0,>=0.12.1 in c:\\users\\vinic\\appdata\\roaming\\python\\python312\\site-packages (from flwr) (0.12.1)\n",
      "Requirement already satisfied: protobuf<5.0.0,>=4.25.2 in c:\\users\\vinic\\appdata\\roaming\\python\\python312\\site-packages (from flwr) (4.25.4)\n",
      "Requirement already satisfied: pycryptodome<4.0.0,>=3.18.0 in c:\\users\\vinic\\appdata\\roaming\\python\\python312\\site-packages (from flwr) (3.21.0)\n",
      "Requirement already satisfied: rich<14.0.0,>=13.5.0 in c:\\users\\vinic\\appdata\\roaming\\python\\python312\\site-packages (from flwr) (13.8.1)\n",
      "Requirement already satisfied: tomli<3.0.0,>=2.0.1 in c:\\users\\vinic\\appdata\\roaming\\python\\python312\\site-packages (from flwr) (2.2.1)\n",
      "Requirement already satisfied: tomli-w<2.0.0,>=1.0.0 in c:\\users\\vinic\\appdata\\roaming\\python\\python312\\site-packages (from flwr) (1.1.0)\n",
      "Requirement already satisfied: typer<0.13.0,>=0.12.5 in c:\\users\\vinic\\appdata\\roaming\\python\\python312\\site-packages (from flwr) (0.12.5)\n",
      "Requirement already satisfied: filelock in c:\\users\\vinic\\appdata\\roaming\\python\\python312\\site-packages (from torch) (3.15.4)\n",
      "Requirement already satisfied: typing-extensions>=4.8.0 in c:\\users\\vinic\\appdata\\roaming\\python\\python312\\site-packages (from torch) (4.12.2)\n",
      "Requirement already satisfied: sympy in c:\\users\\vinic\\appdata\\roaming\\python\\python312\\site-packages (from torch) (1.13.2)\n",
      "Requirement already satisfied: networkx in c:\\users\\vinic\\appdata\\roaming\\python\\python312\\site-packages (from torch) (3.3)\n",
      "Requirement already satisfied: jinja2 in c:\\users\\vinic\\appdata\\roaming\\python\\python312\\site-packages (from torch) (3.1.4)\n",
      "Requirement already satisfied: fsspec in c:\\users\\vinic\\appdata\\roaming\\python\\python312\\site-packages (from torch) (2024.9.0)\n",
      "Requirement already satisfied: setuptools in c:\\users\\vinic\\appdata\\roaming\\python\\python312\\site-packages (from torch) (75.1.0)\n",
      "Requirement already satisfied: pillow!=8.3.*,>=5.3.0 in c:\\users\\vinic\\appdata\\roaming\\python\\python312\\site-packages (from torchvision) (10.4.0)\n",
      "Requirement already satisfied: cffi>=1.12 in c:\\users\\vinic\\appdata\\roaming\\python\\python312\\site-packages (from cryptography<43.0.0,>=42.0.4->flwr) (1.17.0)\n",
      "Requirement already satisfied: markdown-it-py>=2.2.0 in c:\\users\\vinic\\appdata\\roaming\\python\\python312\\site-packages (from rich<14.0.0,>=13.5.0->flwr) (3.0.0)\n",
      "Requirement already satisfied: pygments<3.0.0,>=2.13.0 in c:\\users\\vinic\\appdata\\roaming\\python\\python312\\site-packages (from rich<14.0.0,>=13.5.0->flwr) (2.18.0)\n",
      "Requirement already satisfied: click>=8.0.0 in c:\\users\\vinic\\appdata\\roaming\\python\\python312\\site-packages (from typer<0.13.0,>=0.12.5->flwr) (8.1.7)\n",
      "Requirement already satisfied: shellingham>=1.3.0 in c:\\users\\vinic\\appdata\\roaming\\python\\python312\\site-packages (from typer<0.13.0,>=0.12.5->flwr) (1.5.4)\n",
      "Requirement already satisfied: MarkupSafe>=2.0 in c:\\users\\vinic\\appdata\\roaming\\python\\python312\\site-packages (from jinja2->torch) (2.1.5)\n",
      "Requirement already satisfied: mpmath<1.4,>=1.1.0 in c:\\users\\vinic\\appdata\\roaming\\python\\python312\\site-packages (from sympy->torch) (1.3.0)\n",
      "Requirement already satisfied: pycparser in c:\\users\\vinic\\appdata\\roaming\\python\\python312\\site-packages (from cffi>=1.12->cryptography<43.0.0,>=42.0.4->flwr) (2.22)\n",
      "Requirement already satisfied: colorama in c:\\users\\vinic\\appdata\\roaming\\python\\python312\\site-packages (from click>=8.0.0->typer<0.13.0,>=0.12.5->flwr) (0.4.6)\n",
      "Requirement already satisfied: mdurl~=0.1 in c:\\users\\vinic\\appdata\\roaming\\python\\python312\\site-packages (from markdown-it-py>=2.2.0->rich<14.0.0,>=13.5.0->flwr) (0.1.2)\n",
      "Note: you may need to restart the kernel to use updated packages.\n"
     ]
    }
   ],
   "source": [
    "pip install flwr torch torchvision"
   ]
  }
 ],
 "metadata": {
  "kernelspec": {
   "display_name": "Python 3",
   "language": "python",
   "name": "python3"
  },
  "language_info": {
   "codemirror_mode": {
    "name": "ipython",
    "version": 3
   },
   "file_extension": ".py",
   "mimetype": "text/x-python",
   "name": "python",
   "nbconvert_exporter": "python",
   "pygments_lexer": "ipython3",
   "version": "3.12.4"
  }
 },
 "nbformat": 4,
 "nbformat_minor": 2
}
